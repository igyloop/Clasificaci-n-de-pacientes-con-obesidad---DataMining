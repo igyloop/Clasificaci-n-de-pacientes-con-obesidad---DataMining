{
 "cells": [
  {
   "cell_type": "markdown",
   "metadata": {},
   "source": [
    "# **Clasificación de pacientes niños y niñas menores a 5 años con obesidad del Perú en el año 2019**\n",
    "\n",
    "El presente código evalua variables relacionadas a niños y niñas menores a 5 años de todo el Perú que fueron atendidos en los establecimientos de salud de Dirección Regional de Salud (Diresa) en el año 2019, con el objetivo de poder clasificar a los pacientes por los resultados de su Indice de Masa Corporal (IMC).\n",
    "\n",
    "Se aplicarán 5 modelos de entrenamiento para poder clasificar correctamente a los pacientes, los modelos a utilizar son los siguientes:\n",
    "- Random Forest\n",
    "- Decision Trees\n",
    "- Multinominal Logistic Regression\n",
    "- Support Vector Machine\n",
    "- Naibe Bayes\n",
    "\n",
    "A continuuación se pasará a presentar cada uno de los modelos y los pasos que se realizan para el buen funcionamiento de la clasificación de pacientes."
   ]
  },
  {
   "cell_type": "markdown",
   "metadata": {},
   "source": [
    "## Featuring Enginnering"
   ]
  },
  {
   "cell_type": "markdown",
   "metadata": {},
   "source": [
    "### Importación de Datos\n",
    "\n",
    "En este primer paso se implementan los datos con los que se trabajará para poder determinar la clasificación de los pacientes con obesidad, como se mencionó se utilizará la data recopilada de la [Plataforma Nacional de Datos Abiertos](https://www.datosabiertos.gob.pe/dataset/sien-sistema-de-informaci%C3%B3n-del-estado-nutricional-de-ni%C3%B1os-y-gestantes-per%C3%BA-inscenan \"Plataforma Nacional de Datos Abiertos\").\n",
    "\n",
    "Por otro lado, se mostrará la **variable dependiente** que utilizaremos y cuales son variables."
   ]
  },
  {
   "cell_type": "code",
   "execution_count": 1,
   "metadata": {},
   "outputs": [
    {
     "data": {
      "text/html": [
       "<div>\n",
       "<style scoped>\n",
       "    .dataframe tbody tr th:only-of-type {\n",
       "        vertical-align: middle;\n",
       "    }\n",
       "\n",
       "    .dataframe tbody tr th {\n",
       "        vertical-align: top;\n",
       "    }\n",
       "\n",
       "    .dataframe thead th {\n",
       "        text-align: right;\n",
       "    }\n",
       "</style>\n",
       "<table border=\"1\" class=\"dataframe\">\n",
       "  <thead>\n",
       "    <tr style=\"text-align: right;\">\n",
       "      <th></th>\n",
       "      <th>Diresa</th>\n",
       "      <th>Red</th>\n",
       "      <th>Microred</th>\n",
       "      <th>EESS</th>\n",
       "      <th>Renipress</th>\n",
       "      <th>FechaAtencion</th>\n",
       "      <th>Sexo</th>\n",
       "      <th>FechaNacimiento</th>\n",
       "      <th>EdadMeses</th>\n",
       "      <th>UbigeoPN</th>\n",
       "      <th>DepartamentoPN</th>\n",
       "      <th>ProvinciaPN</th>\n",
       "      <th>DistritoPN</th>\n",
       "      <th>CentroPobladoPN</th>\n",
       "      <th>Juntos</th>\n",
       "      <th>SIS</th>\n",
       "      <th>Pin</th>\n",
       "      <th>Qaliwarma</th>\n",
       "      <th>Peso</th>\n",
       "      <th>Talla</th>\n",
       "      <th>PTZ</th>\n",
       "      <th>ZTE</th>\n",
       "      <th>ZPE</th>\n",
       "      <th>Alerta</th>\n",
       "      <th>Dx_PT</th>\n",
       "      <th>Dx_TE</th>\n",
       "      <th>Dx_PE</th>\n",
       "      <th>Hemoglobina</th>\n",
       "      <th>FechaHemoglobina</th>\n",
       "      <th>Cred</th>\n",
       "      <th>Suplementacion</th>\n",
       "      <th>Consejeria</th>\n",
       "      <th>Sesion</th>\n",
       "      <th>DEPARTAMENTO</th>\n",
       "      <th>PROVINCIA</th>\n",
       "      <th>DISTRITO</th>\n",
       "      <th>ALTITUD</th>\n",
       "    </tr>\n",
       "  </thead>\n",
       "  <tbody>\n",
       "    <tr>\n",
       "      <th>0</th>\n",
       "      <td>MOQUEGUA</td>\n",
       "      <td>MOQUEGUA</td>\n",
       "      <td>OMATE</td>\n",
       "      <td>I-3   - 00002841 - CENTRO DE SALUD OMATE</td>\n",
       "      <td>2841</td>\n",
       "      <td>4/16/2019</td>\n",
       "      <td>F</td>\n",
       "      <td>5/1/2016</td>\n",
       "      <td>35</td>\n",
       "      <td>180101.0</td>\n",
       "      <td>MOQUEGUA</td>\n",
       "      <td>MARISCAL NIET</td>\n",
       "      <td>MOQUEGUA</td>\n",
       "      <td>MOQUEGUA, CIUDAD</td>\n",
       "      <td>0</td>\n",
       "      <td>1</td>\n",
       "      <td>0</td>\n",
       "      <td>0</td>\n",
       "      <td>14.9</td>\n",
       "      <td>95.3</td>\n",
       "      <td>0.71</td>\n",
       "      <td>0.16</td>\n",
       "      <td>0.61</td>\n",
       "      <td></td>\n",
       "      <td>Normal</td>\n",
       "      <td>Normal</td>\n",
       "      <td>Normal</td>\n",
       "      <td></td>\n",
       "      <td></td>\n",
       "      <td>0</td>\n",
       "      <td>0</td>\n",
       "      <td>0</td>\n",
       "      <td>0</td>\n",
       "      <td>MOQUEGUA</td>\n",
       "      <td>MARISCAL NIETO</td>\n",
       "      <td>MOQUEGUA</td>\n",
       "      <td>1410</td>\n",
       "    </tr>\n",
       "    <tr>\n",
       "      <th>1</th>\n",
       "      <td>MOQUEGUA</td>\n",
       "      <td>MOQUEGUA</td>\n",
       "      <td>ICHUÑA</td>\n",
       "      <td>I-2   - 00002862 - P.S. YUNGA</td>\n",
       "      <td>2862</td>\n",
       "      <td>12/23/2019</td>\n",
       "      <td>M</td>\n",
       "      <td>4/21/2018</td>\n",
       "      <td>20</td>\n",
       "      <td>180210.0</td>\n",
       "      <td>MOQUEGUA</td>\n",
       "      <td>GENERAL SANCHEZ CERRO</td>\n",
       "      <td>UBINAS</td>\n",
       "      <td>UBINAS, PUEBLO</td>\n",
       "      <td>0</td>\n",
       "      <td>1</td>\n",
       "      <td>0</td>\n",
       "      <td>0</td>\n",
       "      <td>9.7</td>\n",
       "      <td>79.0</td>\n",
       "      <td>-0.69</td>\n",
       "      <td>-1.87</td>\n",
       "      <td>-1.41</td>\n",
       "      <td></td>\n",
       "      <td>Normal</td>\n",
       "      <td>Normal</td>\n",
       "      <td>Normal</td>\n",
       "      <td></td>\n",
       "      <td></td>\n",
       "      <td>1</td>\n",
       "      <td>0</td>\n",
       "      <td>0</td>\n",
       "      <td>0</td>\n",
       "      <td>MOQUEGUA</td>\n",
       "      <td>GENERAL SANCHEZ CERRO</td>\n",
       "      <td>UBINAS</td>\n",
       "      <td>3376</td>\n",
       "    </tr>\n",
       "    <tr>\n",
       "      <th>2</th>\n",
       "      <td>MOQUEGUA</td>\n",
       "      <td>MOQUEGUA</td>\n",
       "      <td>UBINAS</td>\n",
       "      <td>I-1   - 00002860 - P.S. ANASCAPA</td>\n",
       "      <td>2860</td>\n",
       "      <td>10/6/2019</td>\n",
       "      <td>F</td>\n",
       "      <td>10/12/2014</td>\n",
       "      <td>60</td>\n",
       "      <td>180210.0</td>\n",
       "      <td>MOQUEGUA</td>\n",
       "      <td>GENERAL SANCHEZ CERRO</td>\n",
       "      <td>UBINAS</td>\n",
       "      <td>SACOHAYA, ANEXO</td>\n",
       "      <td>0</td>\n",
       "      <td>1</td>\n",
       "      <td>0</td>\n",
       "      <td>0</td>\n",
       "      <td>19.0</td>\n",
       "      <td>106.0</td>\n",
       "      <td>1.10</td>\n",
       "      <td>-0.70</td>\n",
       "      <td>0.29</td>\n",
       "      <td></td>\n",
       "      <td>Normal</td>\n",
       "      <td>Normal</td>\n",
       "      <td>Normal</td>\n",
       "      <td></td>\n",
       "      <td></td>\n",
       "      <td>0</td>\n",
       "      <td>0</td>\n",
       "      <td>0</td>\n",
       "      <td>0</td>\n",
       "      <td>MOQUEGUA</td>\n",
       "      <td>GENERAL SANCHEZ CERRO</td>\n",
       "      <td>UBINAS</td>\n",
       "      <td>3376</td>\n",
       "    </tr>\n",
       "    <tr>\n",
       "      <th>3</th>\n",
       "      <td>MOQUEGUA</td>\n",
       "      <td>MOQUEGUA</td>\n",
       "      <td>UBINAS</td>\n",
       "      <td>I-1   - 00002855 - P.S. HUATAGUA</td>\n",
       "      <td>2855</td>\n",
       "      <td>9/29/2019</td>\n",
       "      <td>M</td>\n",
       "      <td>10/19/2014</td>\n",
       "      <td>59</td>\n",
       "      <td>180207.0</td>\n",
       "      <td>MOQUEGUA</td>\n",
       "      <td>GENERAL SANCHEZ CERRO</td>\n",
       "      <td>MATALAQUE</td>\n",
       "      <td>HUATAGUA, ANEXO</td>\n",
       "      <td>0</td>\n",
       "      <td>1</td>\n",
       "      <td>0</td>\n",
       "      <td>0</td>\n",
       "      <td>13.8</td>\n",
       "      <td>100.0</td>\n",
       "      <td>-1.32</td>\n",
       "      <td>-2.08</td>\n",
       "      <td>-2.11</td>\n",
       "      <td></td>\n",
       "      <td>Normal</td>\n",
       "      <td>D.Crónica</td>\n",
       "      <td>D.Global</td>\n",
       "      <td></td>\n",
       "      <td></td>\n",
       "      <td>0</td>\n",
       "      <td>1</td>\n",
       "      <td>1</td>\n",
       "      <td>0</td>\n",
       "      <td>MOQUEGUA</td>\n",
       "      <td>GENERAL SANCHEZ CERRO</td>\n",
       "      <td>MATALAQUE</td>\n",
       "      <td>2538</td>\n",
       "    </tr>\n",
       "    <tr>\n",
       "      <th>4</th>\n",
       "      <td>MOQUEGUA</td>\n",
       "      <td>MOQUEGUA</td>\n",
       "      <td>MOQUEGUA</td>\n",
       "      <td>I-3   - 00002825 - C.S. MARISCAL NIETO</td>\n",
       "      <td>2825</td>\n",
       "      <td>10/29/2019</td>\n",
       "      <td>F</td>\n",
       "      <td>11/7/2014</td>\n",
       "      <td>59</td>\n",
       "      <td>180101.0</td>\n",
       "      <td>MOQUEGUA</td>\n",
       "      <td>MARISCAL NIETO</td>\n",
       "      <td>MOQUEGUA</td>\n",
       "      <td>MOQUEGUA, CIUDAD</td>\n",
       "      <td>0</td>\n",
       "      <td>1</td>\n",
       "      <td>0</td>\n",
       "      <td>0</td>\n",
       "      <td>23.0</td>\n",
       "      <td>110.0</td>\n",
       "      <td>2.16</td>\n",
       "      <td>0.16</td>\n",
       "      <td>1.53</td>\n",
       "      <td></td>\n",
       "      <td>Sobrepeso</td>\n",
       "      <td>Normal</td>\n",
       "      <td>Normal</td>\n",
       "      <td></td>\n",
       "      <td></td>\n",
       "      <td>0</td>\n",
       "      <td>0</td>\n",
       "      <td>0</td>\n",
       "      <td>0</td>\n",
       "      <td>MOQUEGUA</td>\n",
       "      <td>MARISCAL NIETO</td>\n",
       "      <td>MOQUEGUA</td>\n",
       "      <td>1410</td>\n",
       "    </tr>\n",
       "  </tbody>\n",
       "</table>\n",
       "</div>"
      ],
      "text/plain": [
       "     Diresa       Red  Microred                                      EESS  \\\n",
       "0  MOQUEGUA  MOQUEGUA     OMATE  I-3   - 00002841 - CENTRO DE SALUD OMATE   \n",
       "1  MOQUEGUA  MOQUEGUA    ICHUÑA             I-2   - 00002862 - P.S. YUNGA   \n",
       "2  MOQUEGUA  MOQUEGUA    UBINAS          I-1   - 00002860 - P.S. ANASCAPA   \n",
       "3  MOQUEGUA  MOQUEGUA    UBINAS          I-1   - 00002855 - P.S. HUATAGUA   \n",
       "4  MOQUEGUA  MOQUEGUA  MOQUEGUA    I-3   - 00002825 - C.S. MARISCAL NIETO   \n",
       "\n",
       "   Renipress FechaAtencion Sexo FechaNacimiento  EdadMeses  UbigeoPN  \\\n",
       "0       2841     4/16/2019    F        5/1/2016         35  180101.0   \n",
       "1       2862    12/23/2019    M       4/21/2018         20  180210.0   \n",
       "2       2860     10/6/2019    F      10/12/2014         60  180210.0   \n",
       "3       2855     9/29/2019    M      10/19/2014         59  180207.0   \n",
       "4       2825    10/29/2019    F       11/7/2014         59  180101.0   \n",
       "\n",
       "  DepartamentoPN            ProvinciaPN DistritoPN   CentroPobladoPN  Juntos  \\\n",
       "0       MOQUEGUA          MARISCAL NIET   MOQUEGUA  MOQUEGUA, CIUDAD       0   \n",
       "1       MOQUEGUA  GENERAL SANCHEZ CERRO     UBINAS    UBINAS, PUEBLO       0   \n",
       "2       MOQUEGUA  GENERAL SANCHEZ CERRO     UBINAS   SACOHAYA, ANEXO       0   \n",
       "3       MOQUEGUA  GENERAL SANCHEZ CERRO  MATALAQUE   HUATAGUA, ANEXO       0   \n",
       "4       MOQUEGUA         MARISCAL NIETO   MOQUEGUA  MOQUEGUA, CIUDAD       0   \n",
       "\n",
       "   SIS  Pin  Qaliwarma  Peso  Talla   PTZ   ZTE   ZPE Alerta      Dx_PT  \\\n",
       "0    1    0          0  14.9   95.3  0.71  0.16  0.61            Normal   \n",
       "1    1    0          0   9.7   79.0 -0.69 -1.87 -1.41            Normal   \n",
       "2    1    0          0  19.0  106.0  1.10 -0.70  0.29            Normal   \n",
       "3    1    0          0  13.8  100.0 -1.32 -2.08 -2.11            Normal   \n",
       "4    1    0          0  23.0  110.0  2.16  0.16  1.53         Sobrepeso   \n",
       "\n",
       "       Dx_TE     Dx_PE Hemoglobina FechaHemoglobina  Cred  Suplementacion  \\\n",
       "0     Normal    Normal                                  0               0   \n",
       "1     Normal    Normal                                  1               0   \n",
       "2     Normal    Normal                                  0               0   \n",
       "3  D.Crónica  D.Global                                  0               1   \n",
       "4     Normal    Normal                                  0               0   \n",
       "\n",
       "   Consejeria  Sesion DEPARTAMENTO              PROVINCIA   DISTRITO  ALTITUD  \n",
       "0           0       0     MOQUEGUA         MARISCAL NIETO   MOQUEGUA     1410  \n",
       "1           0       0     MOQUEGUA  GENERAL SANCHEZ CERRO     UBINAS     3376  \n",
       "2           0       0     MOQUEGUA  GENERAL SANCHEZ CERRO     UBINAS     3376  \n",
       "3           1       0     MOQUEGUA  GENERAL SANCHEZ CERRO  MATALAQUE     2538  \n",
       "4           0       0     MOQUEGUA         MARISCAL NIETO   MOQUEGUA     1410  "
      ]
     },
     "execution_count": 1,
     "metadata": {},
     "output_type": "execute_result"
    }
   ],
   "source": [
    "import pandas as pd\n",
    "\n",
    "# Se utilizan las sigueintes 2 líneas de código para eliminar los rangos de las columnas y filas al mostrar los resultados.\n",
    "pd.options.display.max_columns = None\n",
    "pd.options.display.max_rows = None\n",
    "\n",
    "# Se importa la data alojada en DataBase\n",
    "df_moquegua = pd.read_csv('DataBase/Niños MOQUEGUA.csv')\n",
    "df_amazonas = pd.read_csv('DataBase/Niños AMAZONAS.csv')\n",
    "df_ancash = pd.read_csv('DataBase/Niños ANCASH.csv')\n",
    "df_arequipa = pd.read_csv('DataBase/Niños AREQUIPA.csv')\n",
    "df_ayacucho = pd.read_csv('DataBase/Niños AYACUCHO.csv')\n",
    "df_cajamarca = pd.read_csv('DataBase/Niños CAJAMARCA.csv')\n",
    "df_callao = pd.read_csv('DataBase/Niños CALLAO.csv')\n",
    "df_cusco = pd.read_csv('DataBase/Niños CUSCO.csv')\n",
    "df_huancavelica = pd.read_csv('DataBase/Niños HUANCAVELICA.csv')\n",
    "df_huanuco = pd.read_csv('DataBase/Niños HUANUCO.csv')\n",
    "df_ica = pd.read_csv('DataBase/Niños ICA.csv')\n",
    "df_junin = pd.read_csv('DataBase/Niños JUNIN.csv')\n",
    "df_la_libertad = pd.read_csv('DataBase/Niños LA LIBERTAD.csv')\n",
    "df_lambayeque = pd.read_csv('DataBase/Niños LAMBAYEQUE.csv')\n",
    "df_loreto = pd.read_csv('DataBase/Niños LORETO.csv')\n",
    "df_madre_de_dios = pd.read_csv('DataBase/Niños MADRE DE DIOS.csv')\n",
    "df_pasco = pd.read_csv('DataBase/Niños PASCO.csv')\n",
    "df_piura = pd.read_csv('DataBase/Niños PIURA.csv')\n",
    "df_puno = pd.read_csv('DataBase/Niños PUNO.csv')\n",
    "df_san_martin = pd.read_csv('DataBase/Niños SAN MARTIN.csv')\n",
    "df_tacna = pd.read_csv('DataBase/Niños TACNA.csv')\n",
    "df_ucayali = pd.read_csv('DataBase/Niños UCAYALI.csv')\n",
    "df_lima_centro = pd.read_csv('DataBase/Niños LIMA DIRIS CENTRO.csv')\n",
    "df_lima_este = pd.read_csv('DataBase/Niños LIMA DIRIS ESTE.csv')\n",
    "df_lima_norte = pd.read_csv('DataBase/Niños LIMA DIRIS NORTE.csv')\n",
    "df_lima_sur = pd.read_csv('DataBase/Niños LIMA DIRIS SUR.csv')\n",
    "df_lima = pd.read_csv('DataBase/Niños LIMA.csv')\n",
    "\n",
    "# Se realiza una concatenación para agregar todas las tablas a una sola con el nombre de df.\n",
    "df = pd.concat([df_moquegua, df_amazonas, df_ancash, df_arequipa, df_ayacucho, df_cajamarca, df_callao, df_cusco, df_huancavelica,\n",
    "                df_huanuco, df_ica, df_junin, df_la_libertad, df_lambayeque, df_loreto, df_madre_de_dios, df_pasco, df_piura, df_puno,\n",
    "                df_san_martin, df_tacna, df_ucayali, df_lima_centro, df_lima_este, df_lima_norte, df_lima_sur, df_lima\n",
    "                ], ignore_index=True)\n",
    "\n",
    "df.head()"
   ]
  },
  {
   "cell_type": "code",
   "execution_count": 2,
   "metadata": {},
   "outputs": [
    {
     "name": "stdout",
     "output_type": "stream",
     "text": [
      "Dx_PT\n",
      "Normal       1154734\n",
      "Sobrepeso      87252\n",
      "Obesidad       24451\n",
      "D.Aguda        18595\n",
      "Name: count, dtype: int64\n"
     ]
    },
    {
     "name": "stderr",
     "output_type": "stream",
     "text": [
      "<ipython-input-2-77ed12f0f437>:1: FutureWarning: pandas.value_counts is deprecated and will be removed in a future version. Use pd.Series(obj).value_counts() instead.\n",
      "  print(pd.value_counts(df['Dx_PT'], sort = True))\n"
     ]
    }
   ],
   "source": [
    "print(pd.value_counts(df['Dx_PT'], sort = True))"
   ]
  },
  {
   "cell_type": "code",
   "execution_count": 3,
   "metadata": {},
   "outputs": [
    {
     "name": "stdout",
     "output_type": "stream",
     "text": [
      "<class 'pandas.core.frame.DataFrame'>\n",
      "RangeIndex: 1285032 entries, 0 to 1285031\n",
      "Data columns (total 37 columns):\n",
      " #   Column            Non-Null Count    Dtype  \n",
      "---  ------            --------------    -----  \n",
      " 0   Diresa            1285032 non-null  object \n",
      " 1   Red               1285032 non-null  object \n",
      " 2   Microred          1285032 non-null  object \n",
      " 3   EESS              1285032 non-null  object \n",
      " 4   Renipress         1285032 non-null  int64  \n",
      " 5   FechaAtencion     1285032 non-null  object \n",
      " 6   Sexo              1285032 non-null  object \n",
      " 7   FechaNacimiento   1285032 non-null  object \n",
      " 8   EdadMeses         1285032 non-null  int64  \n",
      " 9   UbigeoPN          1285032 non-null  float64\n",
      " 10  DepartamentoPN    1285032 non-null  object \n",
      " 11  ProvinciaPN       1285032 non-null  object \n",
      " 12  DistritoPN        1285032 non-null  object \n",
      " 13  CentroPobladoPN   1285032 non-null  object \n",
      " 14  Juntos            1285032 non-null  int64  \n",
      " 15  SIS               1285032 non-null  int64  \n",
      " 16  Pin               1285032 non-null  int64  \n",
      " 17  Qaliwarma         1285032 non-null  int64  \n",
      " 18  Peso              1285032 non-null  float64\n",
      " 19  Talla             1285032 non-null  float64\n",
      " 20  PTZ               1285032 non-null  float64\n",
      " 21  ZTE               1285032 non-null  float64\n",
      " 22  ZPE               1285032 non-null  float64\n",
      " 23  Alerta            1285032 non-null  object \n",
      " 24  Dx_PT             1285032 non-null  object \n",
      " 25  Dx_TE             1285032 non-null  object \n",
      " 26  Dx_PE             1285032 non-null  object \n",
      " 27  Hemoglobina       1285032 non-null  object \n",
      " 28  FechaHemoglobina  1285032 non-null  object \n",
      " 29  Cred              1285032 non-null  int64  \n",
      " 30  Suplementacion    1285032 non-null  int64  \n",
      " 31  Consejeria        1285032 non-null  int64  \n",
      " 32  Sesion            1285032 non-null  int64  \n",
      " 33  DEPARTAMENTO      1285032 non-null  object \n",
      " 34  PROVINCIA         1285032 non-null  object \n",
      " 35  DISTRITO          1285032 non-null  object \n",
      " 36  ALTITUD           1285032 non-null  int64  \n",
      "dtypes: float64(6), int64(11), object(20)\n",
      "memory usage: 362.7+ MB\n"
     ]
    }
   ],
   "source": [
    "df.info()"
   ]
  },
  {
   "cell_type": "markdown",
   "metadata": {},
   "source": [
    "### Data imputation (Imputación de Datos)\n",
    "\n",
    "Una vez importada la data que se utilizará para trabajar en este proyecto (*1 285 032 pacientes*) se procederá a imputar la data, esto quiere decir verificar si la data contiene variables vacias las cuales deben ser **reemplazadas** o en el peor de los casos ser **eliminadas**."
   ]
  },
  {
   "cell_type": "markdown",
   "metadata": {},
   "source": [
    "#### Verificar valores nulos\n",
    "\n",
    "Como primer paso de imputación de la data debemos verificar que la tabla no contenga valores vacios, puede mencionarse que al realizar la ejecución del código se mostró que existe un error debido a que se muestran valores vacios por eso añadimos la *4ta línea de código* que servirá para solucionar este error."
   ]
  },
  {
   "cell_type": "code",
   "execution_count": 4,
   "metadata": {},
   "outputs": [
    {
     "data": {
      "text/plain": [
       "Diresa                    0\n",
       "Red                       0\n",
       "Microred                  0\n",
       "EESS                      0\n",
       "Renipress                 0\n",
       "FechaAtencion             0\n",
       "Sexo                      0\n",
       "FechaNacimiento           0\n",
       "EdadMeses                 0\n",
       "UbigeoPN                  0\n",
       "DepartamentoPN            0\n",
       "ProvinciaPN               0\n",
       "DistritoPN                0\n",
       "CentroPobladoPN           0\n",
       "Juntos                    0\n",
       "SIS                       0\n",
       "Pin                       0\n",
       "Qaliwarma                 0\n",
       "Peso                      0\n",
       "Talla                     0\n",
       "PTZ                       0\n",
       "ZTE                       0\n",
       "ZPE                       0\n",
       "Alerta              1283881\n",
       "Dx_PT                     0\n",
       "Dx_TE                     0\n",
       "Dx_PE                     0\n",
       "Hemoglobina         1053183\n",
       "FechaHemoglobina    1110543\n",
       "Cred                      0\n",
       "Suplementacion            0\n",
       "Consejeria                0\n",
       "Sesion                    0\n",
       "DEPARTAMENTO              0\n",
       "PROVINCIA                 0\n",
       "DISTRITO                  0\n",
       "ALTITUD                   0\n",
       "dtype: int64"
      ]
     },
     "execution_count": 4,
     "metadata": {},
     "output_type": "execute_result"
    }
   ],
   "source": [
    "#Verificar Datos nulos --- Imputar\n",
    "import numpy as np\n",
    "\n",
    "df.replace(r'^\\s*$', np.nan, regex=True, inplace=True)\n",
    "df.isnull().sum()"
   ]
  },
  {
   "cell_type": "markdown",
   "metadata": {},
   "source": [
    "#### Reemplazar o Eliminar columnas\n",
    "\n",
    "Para el segundo paso tendremos las columnas (*Alerta, Hemoglobina, FechaHemoglobina*) que contienen la mayor cantidad de valores nulos, además, podemos considerar que estas columnas no son muy relevantes para la clasificación de pacientes con obesidad por lo que procedemos a eliminarlas de la data.\n",
    "\n",
    "Finalmente validamos si los los datos utilizados están sin variables nulas."
   ]
  },
  {
   "cell_type": "code",
   "execution_count": 5,
   "metadata": {},
   "outputs": [],
   "source": [
    "df = df.drop(['Alerta', 'Hemoglobina', 'FechaHemoglobina'], axis=1)"
   ]
  },
  {
   "cell_type": "code",
   "execution_count": 6,
   "metadata": {},
   "outputs": [
    {
     "data": {
      "text/plain": [
       "Diresa             0\n",
       "Red                0\n",
       "Microred           0\n",
       "EESS               0\n",
       "Renipress          0\n",
       "FechaAtencion      0\n",
       "Sexo               0\n",
       "FechaNacimiento    0\n",
       "EdadMeses          0\n",
       "UbigeoPN           0\n",
       "DepartamentoPN     0\n",
       "ProvinciaPN        0\n",
       "DistritoPN         0\n",
       "CentroPobladoPN    0\n",
       "Juntos             0\n",
       "SIS                0\n",
       "Pin                0\n",
       "Qaliwarma          0\n",
       "Peso               0\n",
       "Talla              0\n",
       "PTZ                0\n",
       "ZTE                0\n",
       "ZPE                0\n",
       "Dx_PT              0\n",
       "Dx_TE              0\n",
       "Dx_PE              0\n",
       "Cred               0\n",
       "Suplementacion     0\n",
       "Consejeria         0\n",
       "Sesion             0\n",
       "DEPARTAMENTO       0\n",
       "PROVINCIA          0\n",
       "DISTRITO           0\n",
       "ALTITUD            0\n",
       "dtype: int64"
      ]
     },
     "execution_count": 6,
     "metadata": {},
     "output_type": "execute_result"
    }
   ],
   "source": [
    "df.replace(r'^\\s*$', np.nan, regex=True, inplace=True)\n",
    "df.isnull().sum()"
   ]
  },
  {
   "cell_type": "markdown",
   "metadata": {},
   "source": [
    "### Categorical Encoding (Codificación categórica)\n",
    "\n",
    "Una vez imputada la data eliminando las variables nulas procedemos a convertir las *variables categóricas* que contienen variables **no-numéricas** en variables **numéricas** que serán utilizadas en los algoritmos de *Machine Learning*. Para realizar este paso debemos de convertir las columnas de tipo *object* a *category*, de la misma forma con las variables de tipo *int64* a *float64*.\n",
    "\n",
    "Una vez realizadas las conversiones correspondientes se debe eleigr entre una de las siguientes técnicas:\n",
    "\n",
    "- Label Encoding\n",
    "- One-Hot Encoding\n",
    "- Target Encoding\n",
    "\n",
    "Estas técnicas sirven para cambiar las variables a otras de tal forma que sea más facil su aplicación en el proceso de clasificación de pacientes."
   ]
  },
  {
   "cell_type": "markdown",
   "metadata": {},
   "source": [
    "#### Label Encoding\n",
    "\n",
    "Se utilizará **Label Encoding** debido a que las variables que utilizaremos en general serán de tipo numérico para su facil manejo en el proceso de clasificación, por lo que, se realizará una conversión de las variables mencionadas en el *segundo cuadro de código Python* (*Normal, Sobrepeso, Obesidad, D.Aguda*) a variables de tipo numérica.\n",
    "\n",
    "Finalmente, mencionar que al utilizar esta técnica se descarta el uso de fechas y otros aspectos similares con carácteres especiales para el proceso de clasificación."
   ]
  },
  {
   "cell_type": "code",
   "execution_count": 7,
   "metadata": {},
   "outputs": [
    {
     "name": "stdout",
     "output_type": "stream",
     "text": [
      "{0: 'D.Aguda', 1: 'Normal', 2: 'Obesidad', 3: 'Sobrepeso'}\n"
     ]
    },
    {
     "data": {
      "text/html": [
       "<div>\n",
       "<style scoped>\n",
       "    .dataframe tbody tr th:only-of-type {\n",
       "        vertical-align: middle;\n",
       "    }\n",
       "\n",
       "    .dataframe tbody tr th {\n",
       "        vertical-align: top;\n",
       "    }\n",
       "\n",
       "    .dataframe thead th {\n",
       "        text-align: right;\n",
       "    }\n",
       "</style>\n",
       "<table border=\"1\" class=\"dataframe\">\n",
       "  <thead>\n",
       "    <tr style=\"text-align: right;\">\n",
       "      <th></th>\n",
       "      <th>Diresa</th>\n",
       "      <th>Red</th>\n",
       "      <th>Microred</th>\n",
       "      <th>EESS</th>\n",
       "      <th>FechaAtencion</th>\n",
       "      <th>Sexo</th>\n",
       "      <th>FechaNacimiento</th>\n",
       "      <th>DepartamentoPN</th>\n",
       "      <th>ProvinciaPN</th>\n",
       "      <th>DistritoPN</th>\n",
       "      <th>CentroPobladoPN</th>\n",
       "      <th>Dx_PT</th>\n",
       "      <th>Dx_TE</th>\n",
       "      <th>Dx_PE</th>\n",
       "      <th>DEPARTAMENTO</th>\n",
       "      <th>PROVINCIA</th>\n",
       "      <th>DISTRITO</th>\n",
       "    </tr>\n",
       "  </thead>\n",
       "  <tbody>\n",
       "    <tr>\n",
       "      <th>0</th>\n",
       "      <td>20</td>\n",
       "      <td>86</td>\n",
       "      <td>500</td>\n",
       "      <td>5718</td>\n",
       "      <td>189</td>\n",
       "      <td>0</td>\n",
       "      <td>1244</td>\n",
       "      <td>17</td>\n",
       "      <td>147</td>\n",
       "      <td>979</td>\n",
       "      <td>14166</td>\n",
       "      <td>1</td>\n",
       "      <td>1</td>\n",
       "      <td>1</td>\n",
       "      <td>17</td>\n",
       "      <td>120</td>\n",
       "      <td>923</td>\n",
       "    </tr>\n",
       "    <tr>\n",
       "      <th>1</th>\n",
       "      <td>20</td>\n",
       "      <td>86</td>\n",
       "      <td>306</td>\n",
       "      <td>4214</td>\n",
       "      <td>107</td>\n",
       "      <td>1</td>\n",
       "      <td>1144</td>\n",
       "      <td>17</td>\n",
       "      <td>95</td>\n",
       "      <td>1721</td>\n",
       "      <td>24520</td>\n",
       "      <td>1</td>\n",
       "      <td>1</td>\n",
       "      <td>1</td>\n",
       "      <td>17</td>\n",
       "      <td>73</td>\n",
       "      <td>1600</td>\n",
       "    </tr>\n",
       "    <tr>\n",
       "      <th>2</th>\n",
       "      <td>20</td>\n",
       "      <td>86</td>\n",
       "      <td>755</td>\n",
       "      <td>1047</td>\n",
       "      <td>58</td>\n",
       "      <td>0</td>\n",
       "      <td>173</td>\n",
       "      <td>17</td>\n",
       "      <td>95</td>\n",
       "      <td>1721</td>\n",
       "      <td>19490</td>\n",
       "      <td>1</td>\n",
       "      <td>1</td>\n",
       "      <td>1</td>\n",
       "      <td>17</td>\n",
       "      <td>73</td>\n",
       "      <td>1600</td>\n",
       "    </tr>\n",
       "    <tr>\n",
       "      <th>3</th>\n",
       "      <td>20</td>\n",
       "      <td>86</td>\n",
       "      <td>755</td>\n",
       "      <td>1043</td>\n",
       "      <td>356</td>\n",
       "      <td>1</td>\n",
       "      <td>215</td>\n",
       "      <td>17</td>\n",
       "      <td>95</td>\n",
       "      <td>942</td>\n",
       "      <td>9433</td>\n",
       "      <td>1</td>\n",
       "      <td>0</td>\n",
       "      <td>0</td>\n",
       "      <td>17</td>\n",
       "      <td>73</td>\n",
       "      <td>888</td>\n",
       "    </tr>\n",
       "    <tr>\n",
       "      <th>4</th>\n",
       "      <td>20</td>\n",
       "      <td>86</td>\n",
       "      <td>460</td>\n",
       "      <td>5714</td>\n",
       "      <td>52</td>\n",
       "      <td>0</td>\n",
       "      <td>503</td>\n",
       "      <td>17</td>\n",
       "      <td>148</td>\n",
       "      <td>979</td>\n",
       "      <td>14166</td>\n",
       "      <td>3</td>\n",
       "      <td>1</td>\n",
       "      <td>1</td>\n",
       "      <td>17</td>\n",
       "      <td>120</td>\n",
       "      <td>923</td>\n",
       "    </tr>\n",
       "  </tbody>\n",
       "</table>\n",
       "</div>"
      ],
      "text/plain": [
       "   Diresa  Red  Microred  EESS  FechaAtencion  Sexo  FechaNacimiento  \\\n",
       "0      20   86       500  5718            189     0             1244   \n",
       "1      20   86       306  4214            107     1             1144   \n",
       "2      20   86       755  1047             58     0              173   \n",
       "3      20   86       755  1043            356     1              215   \n",
       "4      20   86       460  5714             52     0              503   \n",
       "\n",
       "   DepartamentoPN  ProvinciaPN  DistritoPN  CentroPobladoPN  Dx_PT  Dx_TE  \\\n",
       "0              17          147         979            14166      1      1   \n",
       "1              17           95        1721            24520      1      1   \n",
       "2              17           95        1721            19490      1      1   \n",
       "3              17           95         942             9433      1      0   \n",
       "4              17          148         979            14166      3      1   \n",
       "\n",
       "   Dx_PE  DEPARTAMENTO  PROVINCIA  DISTRITO  \n",
       "0      1            17        120       923  \n",
       "1      1            17         73      1600  \n",
       "2      1            17         73      1600  \n",
       "3      0            17         73       888  \n",
       "4      1            17        120       923  "
      ]
     },
     "execution_count": 7,
     "metadata": {},
     "output_type": "execute_result"
    }
   ],
   "source": [
    "object_columns = df.select_dtypes(include=['object']).columns\n",
    "df[object_columns] = df[object_columns].astype('category')\n",
    "\n",
    "numeric_columns = df.select_dtypes(include=['int64', 'float64']).columns\n",
    "categorical_data = df.drop(columns=numeric_columns)\n",
    "\n",
    "category_mapping = dict(enumerate(categorical_data['Dx_PT'].cat.categories))\n",
    "\n",
    "for column in categorical_data.columns:\n",
    "    categorical_data[column] = categorical_data[column].cat.codes\n",
    "\n",
    "print(category_mapping)\n",
    "#Se mostrará la data categórica recogida de la data principal\n",
    "categorical_data.head()"
   ]
  },
  {
   "cell_type": "code",
   "execution_count": 8,
   "metadata": {},
   "outputs": [
    {
     "data": {
      "text/html": [
       "<div>\n",
       "<style scoped>\n",
       "    .dataframe tbody tr th:only-of-type {\n",
       "        vertical-align: middle;\n",
       "    }\n",
       "\n",
       "    .dataframe tbody tr th {\n",
       "        vertical-align: top;\n",
       "    }\n",
       "\n",
       "    .dataframe thead th {\n",
       "        text-align: right;\n",
       "    }\n",
       "</style>\n",
       "<table border=\"1\" class=\"dataframe\">\n",
       "  <thead>\n",
       "    <tr style=\"text-align: right;\">\n",
       "      <th></th>\n",
       "      <th>Renipress</th>\n",
       "      <th>EdadMeses</th>\n",
       "      <th>UbigeoPN</th>\n",
       "      <th>Juntos</th>\n",
       "      <th>SIS</th>\n",
       "      <th>Pin</th>\n",
       "      <th>Qaliwarma</th>\n",
       "      <th>Peso</th>\n",
       "      <th>Talla</th>\n",
       "      <th>PTZ</th>\n",
       "      <th>ZTE</th>\n",
       "      <th>ZPE</th>\n",
       "      <th>Cred</th>\n",
       "      <th>Suplementacion</th>\n",
       "      <th>Consejeria</th>\n",
       "      <th>Sesion</th>\n",
       "      <th>ALTITUD</th>\n",
       "      <th>Diresa</th>\n",
       "      <th>Red</th>\n",
       "      <th>Microred</th>\n",
       "      <th>EESS</th>\n",
       "      <th>FechaAtencion</th>\n",
       "      <th>Sexo</th>\n",
       "      <th>FechaNacimiento</th>\n",
       "      <th>DepartamentoPN</th>\n",
       "      <th>ProvinciaPN</th>\n",
       "      <th>DistritoPN</th>\n",
       "      <th>CentroPobladoPN</th>\n",
       "      <th>Dx_PT</th>\n",
       "      <th>Dx_TE</th>\n",
       "      <th>Dx_PE</th>\n",
       "      <th>DEPARTAMENTO</th>\n",
       "      <th>PROVINCIA</th>\n",
       "      <th>DISTRITO</th>\n",
       "    </tr>\n",
       "  </thead>\n",
       "  <tbody>\n",
       "    <tr>\n",
       "      <th>0</th>\n",
       "      <td>2841</td>\n",
       "      <td>35</td>\n",
       "      <td>180101.0</td>\n",
       "      <td>0</td>\n",
       "      <td>1</td>\n",
       "      <td>0</td>\n",
       "      <td>0</td>\n",
       "      <td>14.9</td>\n",
       "      <td>95.3</td>\n",
       "      <td>0.71</td>\n",
       "      <td>0.16</td>\n",
       "      <td>0.61</td>\n",
       "      <td>0</td>\n",
       "      <td>0</td>\n",
       "      <td>0</td>\n",
       "      <td>0</td>\n",
       "      <td>1410</td>\n",
       "      <td>20</td>\n",
       "      <td>86</td>\n",
       "      <td>500</td>\n",
       "      <td>5718</td>\n",
       "      <td>189</td>\n",
       "      <td>0</td>\n",
       "      <td>1244</td>\n",
       "      <td>17</td>\n",
       "      <td>147</td>\n",
       "      <td>979</td>\n",
       "      <td>14166</td>\n",
       "      <td>1</td>\n",
       "      <td>1</td>\n",
       "      <td>1</td>\n",
       "      <td>17</td>\n",
       "      <td>120</td>\n",
       "      <td>923</td>\n",
       "    </tr>\n",
       "    <tr>\n",
       "      <th>1</th>\n",
       "      <td>2862</td>\n",
       "      <td>20</td>\n",
       "      <td>180210.0</td>\n",
       "      <td>0</td>\n",
       "      <td>1</td>\n",
       "      <td>0</td>\n",
       "      <td>0</td>\n",
       "      <td>9.7</td>\n",
       "      <td>79.0</td>\n",
       "      <td>-0.69</td>\n",
       "      <td>-1.87</td>\n",
       "      <td>-1.41</td>\n",
       "      <td>1</td>\n",
       "      <td>0</td>\n",
       "      <td>0</td>\n",
       "      <td>0</td>\n",
       "      <td>3376</td>\n",
       "      <td>20</td>\n",
       "      <td>86</td>\n",
       "      <td>306</td>\n",
       "      <td>4214</td>\n",
       "      <td>107</td>\n",
       "      <td>1</td>\n",
       "      <td>1144</td>\n",
       "      <td>17</td>\n",
       "      <td>95</td>\n",
       "      <td>1721</td>\n",
       "      <td>24520</td>\n",
       "      <td>1</td>\n",
       "      <td>1</td>\n",
       "      <td>1</td>\n",
       "      <td>17</td>\n",
       "      <td>73</td>\n",
       "      <td>1600</td>\n",
       "    </tr>\n",
       "    <tr>\n",
       "      <th>2</th>\n",
       "      <td>2860</td>\n",
       "      <td>60</td>\n",
       "      <td>180210.0</td>\n",
       "      <td>0</td>\n",
       "      <td>1</td>\n",
       "      <td>0</td>\n",
       "      <td>0</td>\n",
       "      <td>19.0</td>\n",
       "      <td>106.0</td>\n",
       "      <td>1.10</td>\n",
       "      <td>-0.70</td>\n",
       "      <td>0.29</td>\n",
       "      <td>0</td>\n",
       "      <td>0</td>\n",
       "      <td>0</td>\n",
       "      <td>0</td>\n",
       "      <td>3376</td>\n",
       "      <td>20</td>\n",
       "      <td>86</td>\n",
       "      <td>755</td>\n",
       "      <td>1047</td>\n",
       "      <td>58</td>\n",
       "      <td>0</td>\n",
       "      <td>173</td>\n",
       "      <td>17</td>\n",
       "      <td>95</td>\n",
       "      <td>1721</td>\n",
       "      <td>19490</td>\n",
       "      <td>1</td>\n",
       "      <td>1</td>\n",
       "      <td>1</td>\n",
       "      <td>17</td>\n",
       "      <td>73</td>\n",
       "      <td>1600</td>\n",
       "    </tr>\n",
       "    <tr>\n",
       "      <th>3</th>\n",
       "      <td>2855</td>\n",
       "      <td>59</td>\n",
       "      <td>180207.0</td>\n",
       "      <td>0</td>\n",
       "      <td>1</td>\n",
       "      <td>0</td>\n",
       "      <td>0</td>\n",
       "      <td>13.8</td>\n",
       "      <td>100.0</td>\n",
       "      <td>-1.32</td>\n",
       "      <td>-2.08</td>\n",
       "      <td>-2.11</td>\n",
       "      <td>0</td>\n",
       "      <td>1</td>\n",
       "      <td>1</td>\n",
       "      <td>0</td>\n",
       "      <td>2538</td>\n",
       "      <td>20</td>\n",
       "      <td>86</td>\n",
       "      <td>755</td>\n",
       "      <td>1043</td>\n",
       "      <td>356</td>\n",
       "      <td>1</td>\n",
       "      <td>215</td>\n",
       "      <td>17</td>\n",
       "      <td>95</td>\n",
       "      <td>942</td>\n",
       "      <td>9433</td>\n",
       "      <td>1</td>\n",
       "      <td>0</td>\n",
       "      <td>0</td>\n",
       "      <td>17</td>\n",
       "      <td>73</td>\n",
       "      <td>888</td>\n",
       "    </tr>\n",
       "    <tr>\n",
       "      <th>4</th>\n",
       "      <td>2825</td>\n",
       "      <td>59</td>\n",
       "      <td>180101.0</td>\n",
       "      <td>0</td>\n",
       "      <td>1</td>\n",
       "      <td>0</td>\n",
       "      <td>0</td>\n",
       "      <td>23.0</td>\n",
       "      <td>110.0</td>\n",
       "      <td>2.16</td>\n",
       "      <td>0.16</td>\n",
       "      <td>1.53</td>\n",
       "      <td>0</td>\n",
       "      <td>0</td>\n",
       "      <td>0</td>\n",
       "      <td>0</td>\n",
       "      <td>1410</td>\n",
       "      <td>20</td>\n",
       "      <td>86</td>\n",
       "      <td>460</td>\n",
       "      <td>5714</td>\n",
       "      <td>52</td>\n",
       "      <td>0</td>\n",
       "      <td>503</td>\n",
       "      <td>17</td>\n",
       "      <td>148</td>\n",
       "      <td>979</td>\n",
       "      <td>14166</td>\n",
       "      <td>3</td>\n",
       "      <td>1</td>\n",
       "      <td>1</td>\n",
       "      <td>17</td>\n",
       "      <td>120</td>\n",
       "      <td>923</td>\n",
       "    </tr>\n",
       "  </tbody>\n",
       "</table>\n",
       "</div>"
      ],
      "text/plain": [
       "   Renipress  EdadMeses  UbigeoPN  Juntos  SIS  Pin  Qaliwarma  Peso  Talla  \\\n",
       "0       2841         35  180101.0       0    1    0          0  14.9   95.3   \n",
       "1       2862         20  180210.0       0    1    0          0   9.7   79.0   \n",
       "2       2860         60  180210.0       0    1    0          0  19.0  106.0   \n",
       "3       2855         59  180207.0       0    1    0          0  13.8  100.0   \n",
       "4       2825         59  180101.0       0    1    0          0  23.0  110.0   \n",
       "\n",
       "    PTZ   ZTE   ZPE  Cred  Suplementacion  Consejeria  Sesion  ALTITUD  \\\n",
       "0  0.71  0.16  0.61     0               0           0       0     1410   \n",
       "1 -0.69 -1.87 -1.41     1               0           0       0     3376   \n",
       "2  1.10 -0.70  0.29     0               0           0       0     3376   \n",
       "3 -1.32 -2.08 -2.11     0               1           1       0     2538   \n",
       "4  2.16  0.16  1.53     0               0           0       0     1410   \n",
       "\n",
       "   Diresa  Red  Microred  EESS  FechaAtencion  Sexo  FechaNacimiento  \\\n",
       "0      20   86       500  5718            189     0             1244   \n",
       "1      20   86       306  4214            107     1             1144   \n",
       "2      20   86       755  1047             58     0              173   \n",
       "3      20   86       755  1043            356     1              215   \n",
       "4      20   86       460  5714             52     0              503   \n",
       "\n",
       "   DepartamentoPN  ProvinciaPN  DistritoPN  CentroPobladoPN  Dx_PT  Dx_TE  \\\n",
       "0              17          147         979            14166      1      1   \n",
       "1              17           95        1721            24520      1      1   \n",
       "2              17           95        1721            19490      1      1   \n",
       "3              17           95         942             9433      1      0   \n",
       "4              17          148         979            14166      3      1   \n",
       "\n",
       "   Dx_PE  DEPARTAMENTO  PROVINCIA  DISTRITO  \n",
       "0      1            17        120       923  \n",
       "1      1            17         73      1600  \n",
       "2      1            17         73      1600  \n",
       "3      0            17         73       888  \n",
       "4      1            17        120       923  "
      ]
     },
     "execution_count": 8,
     "metadata": {},
     "output_type": "execute_result"
    }
   ],
   "source": [
    "category_columns = df.select_dtypes(include=['category']).columns\n",
    "numerical_data = df.drop(columns=category_columns)\n",
    "df_new = numerical_data.join(categorical_data)\n",
    "df_new.head()"
   ]
  },
  {
   "cell_type": "code",
   "execution_count": 9,
   "metadata": {},
   "outputs": [],
   "source": [
    "# Se eliminan algunas de las columnas para que quede al final la variable dependiente, en este caso Dx_PT para trabajar mejor\n",
    "df_new = df_new.drop(['DISTRITO', 'PROVINCIA', 'DEPARTAMENTO', 'Dx_PE', 'Dx_TE'], axis=1)"
   ]
  },
  {
   "cell_type": "markdown",
   "metadata": {},
   "source": [
    "### Features Importances (Características importantes)\n",
    "\n",
    "Para verificar que columnas son las más relevantes haremos una verificación de datos utilizando algunos modelos de los modelos que se mencionaron anteriormente, en este caso utilizaremos **Random Forest** y **Desicion Trees** para determinar la importancia relativa de cada caracteristica en un *DataSet* al crear un modelo predictivo."
   ]
  },
  {
   "cell_type": "markdown",
   "metadata": {},
   "source": [
    "#### Primera prueba - Random Forest\n",
    "\n",
    "Para esta primera prueba se ejecutará el modelo de entrenamiento **Random Forest** utilizando el *DataSet* completo para determinar que característica es la más importante al realizar la clasificación de pacientes con obesidad."
   ]
  },
  {
   "cell_type": "code",
   "execution_count": 10,
   "metadata": {},
   "outputs": [],
   "source": [
    "from sklearn.model_selection import train_test_split\n",
    "from sklearn.preprocessing import StandardScaler\n",
    "from sklearn.ensemble import RandomForestClassifier\n",
    "from sklearn.metrics import confusion_matrix\n",
    "\n",
    "X,y = df_new.iloc[:, :-1], df_new.iloc[:, -1]\n",
    "\n",
    "X_train, X_test, y_train, y_test = train_test_split(X, y, test_size = 0.2, random_state = 42)"
   ]
  },
  {
   "cell_type": "code",
   "execution_count": 11,
   "metadata": {},
   "outputs": [],
   "source": [
    "scaler = StandardScaler()\n",
    "X_train = scaler.fit_transform(X_train)\n",
    "X_test = scaler.transform(X_test)"
   ]
  },
  {
   "cell_type": "code",
   "execution_count": 12,
   "metadata": {},
   "outputs": [],
   "source": [
    "random_forest_prev = RandomForestClassifier(n_estimators = 100, criterion = 'entropy', random_state = 42)\n",
    "modelo_rf = random_forest_prev.fit(X_train, y_train)\n",
    "y_pred_rf = modelo_rf.predict(X_test)"
   ]
  },
  {
   "cell_type": "code",
   "execution_count": 13,
   "metadata": {},
   "outputs": [
    {
     "data": {
      "image/png": "[encoded data removed]",
      "text/plain": [
       "<Figure size 648x432 with 2 Axes>"
      ]
     },
     "metadata": {
      "needs_background": "light"
     },
     "output_type": "display_data"
    },
    {
     "name": "stdout",
     "output_type": "stream",
     "text": [
      "              precision    recall  f1-score   support\n",
      "\n",
      "           0       1.00      1.00      1.00      3685\n",
      "           1       1.00      1.00      1.00    231180\n",
      "           2       1.00      1.00      1.00      4828\n",
      "           3       1.00      1.00      1.00     17314\n",
      "\n",
      "    accuracy                           1.00    257007\n",
      "   macro avg       1.00      1.00      1.00    257007\n",
      "weighted avg       1.00      1.00      1.00    257007\n",
      "\n"
     ]
    }
   ],
   "source": [
    "from sklearn.metrics import confusion_matrix, classification_report\n",
    "from matplotlib import pyplot as plt\n",
    "import seaborn as sns\n",
    "\n",
    "conf_matrix = confusion_matrix(y_test, y_pred_rf)\n",
    "plt.figure(figsize=(9, 6))\n",
    "sns.heatmap(conf_matrix, annot=True, fmt=\"d\")\n",
    "plt.title(\"Confusion matrix\")\n",
    "plt.ylabel('class')\n",
    "plt.xlabel('Predicted class')\n",
    "plt.show()\n",
    "print(classification_report(y_test, y_pred_rf))"
   ]
  },
  {
   "cell_type": "markdown",
   "metadata": {},
   "source": [
    "##### Verificación de columna relevante\n",
    "\n",
    "Para verificar la columna relevante utilizaremos **Feature Importances** la cual mostrará una tabla con las características más importantes del *DataSet* sobre los pacientes."
   ]
  },
  {
   "cell_type": "code",
   "execution_count": 14,
   "metadata": {},
   "outputs": [
    {
     "data": {
      "image/png": "[encoded data removed]",
      "text/plain": [
       "<Figure size 432x288 with 1 Axes>"
      ]
     },
     "metadata": {
      "needs_background": "light"
     },
     "output_type": "display_data"
    },
    {
     "name": "stdout",
     "output_type": "stream",
     "text": [
      "Renipress: 0.18%\n",
      "EdadMeses: 0.66%\n",
      "UbigeoPN: 0.11%\n",
      "Juntos: 0.01%\n",
      "SIS: 0.01%\n",
      "Pin: 0.00%\n",
      "Qaliwarma: 0.00%\n",
      "Peso: 3.54%\n",
      "Talla: 1.84%\n",
      "PTZ: 71.01%\n",
      "ZTE: 4.59%\n",
      "ZPE: 16.68%\n",
      "Cred: 0.10%\n",
      "Suplementacion: 0.03%\n",
      "Consejeria: 0.03%\n",
      "Sesion: 0.00%\n",
      "ALTITUD: 0.26%\n",
      "Diresa: 0.12%\n",
      "Red: 0.10%\n",
      "Microred: 0.07%\n",
      "EESS: 0.12%\n",
      "FechaAtencion: 0.11%\n",
      "Sexo: 0.04%\n",
      "FechaNacimiento: 0.12%\n",
      "DepartamentoPN: 0.05%\n",
      "ProvinciaPN: 0.06%\n",
      "DistritoPN: 0.08%\n",
      "CentroPobladoPN: 0.08%\n"
     ]
    }
   ],
   "source": [
    "import matplotlib.pyplot as plt\n",
    "import numpy as np\n",
    "\n",
    "feature_importances = modelo_rf.feature_importances_\n",
    "features = df_new.columns[:-1]\n",
    "\n",
    "total_importance = np.sum(feature_importances)\n",
    "per_importance = (feature_importances / total_importance) * 100\n",
    "\n",
    "plt.bar(features, per_importance)\n",
    "plt.xlabel('Feature')\n",
    "plt.ylabel('Importance (%)')\n",
    "plt.title('Percentage of Features Importances')\n",
    "plt.xticks(rotation=90)\n",
    "plt.show()\n",
    "\n",
    "for i, features in enumerate(features):\n",
    "    print(f\"{features}: {per_importance[i]:.2f}%\")\n"
   ]
  },
  {
   "cell_type": "markdown",
   "metadata": {},
   "source": [
    "##### Conclusión\n",
    "\n",
    "Puede determinarse que la columna con mayor relevancia para la clasificación de pacientes con obesidad es *PTZ*, seguido de *ZPE* y finalmente de *ZTE*, las cuales tienen el siguiente significado:\n",
    "\n",
    "- **PTZ:** Índice que compara el peso del menor con el peso esperado para su talla y permite establecer si ha ocurrido una pérdida/ganancia de peso corporal.\n",
    "- **ZTE:** Índice que compara la talla del menor con la talla esperada para su edad y permite establecer si está ocurriendo un retraso en el crecimiento.\n",
    "- **ZPE:** Índice que compara el peso del menor con el peso esperado para su edad y permite establecer si está ocurriendo desnutrición.\n",
    "\n",
    "Con estos resultados se puede analizar que PTZ al comparar los valores del peso y talla con los establecidos por defecto nacionalmente se determinaría si el paciente tiene obesidad o desnutrición, en otras palabras, se compara con una variable determinada por lo que facilitaría bastante a la clasificación de pacientes."
   ]
  },
  {
   "cell_type": "markdown",
   "metadata": {},
   "source": [
    "#### Segunda prueba - Decision Tree\n",
    "\n",
    "Como segunda prueba se ejecutará el modelo **Decision Tree** el cual de la misma forma que el anterior modelo tendrá la función de determinar cuales son las caracteristicas o columnas más importantes en nuestra *DataSet*."
   ]
  },
  {
   "cell_type": "code",
   "execution_count": 15,
   "metadata": {},
   "outputs": [],
   "source": [
    "from sklearn.tree import DecisionTreeClassifier\n",
    "\n",
    "modelo_dtr = DecisionTreeClassifier(criterion='entropy',max_depth=40, min_samples_split=2, random_state = 42)\n",
    "decision_tree = modelo_dtr.fit(X_train, y_train)\n",
    "y_pred_dt = decision_tree.predict(X_test)"
   ]
  },
  {
   "cell_type": "code",
   "execution_count": 16,
   "metadata": {},
   "outputs": [
    {
     "data": {
      "image/png": "[encoded data removed]",
      "text/plain": [
       "<Figure size 648x432 with 2 Axes>"
      ]
     },
     "metadata": {
      "needs_background": "light"
     },
     "output_type": "display_data"
    },
    {
     "name": "stdout",
     "output_type": "stream",
     "text": [
      "              precision    recall  f1-score   support\n",
      "\n",
      "           0       1.00      1.00      1.00      3685\n",
      "           1       1.00      1.00      1.00    231180\n",
      "           2       1.00      1.00      1.00      4828\n",
      "           3       1.00      1.00      1.00     17314\n",
      "\n",
      "    accuracy                           1.00    257007\n",
      "   macro avg       1.00      1.00      1.00    257007\n",
      "weighted avg       1.00      1.00      1.00    257007\n",
      "\n"
     ]
    }
   ],
   "source": [
    "from sklearn.metrics import confusion_matrix, classification_report\n",
    "from matplotlib import pyplot as plt\n",
    "import seaborn as sns\n",
    "\n",
    "conf_matrix = confusion_matrix(y_test, y_pred_dt)\n",
    "plt.figure(figsize=(9, 6))\n",
    "sns.heatmap(conf_matrix, annot=True, fmt=\"d\")\n",
    "plt.title(\"Confusion matrix\")\n",
    "plt.ylabel('class')\n",
    "plt.xlabel('Predicted class')\n",
    "plt.show()\n",
    "print(classification_report(y_test, y_pred_dt))"
   ]
  },
  {
   "cell_type": "markdown",
   "metadata": {},
   "source": [
    "##### Verificación de columna relevante\n",
    "\n",
    "Para verificar la columna relevante utilizaremos **Feature Importances** la cual mostrará una tabla con las características más importantes del *DataSet* sobre los pacientes."
   ]
  },
  {
   "cell_type": "code",
   "execution_count": 17,
   "metadata": {},
   "outputs": [
    {
     "data": {
      "image/png": "[encoded data removed]",
      "text/plain": [
       "<Figure size 432x288 with 1 Axes>"
      ]
     },
     "metadata": {
      "needs_background": "light"
     },
     "output_type": "display_data"
    },
    {
     "name": "stdout",
     "output_type": "stream",
     "text": [
      "Renipress: 0.00%\n",
      "EdadMeses: 0.00%\n",
      "UbigeoPN: 0.00%\n",
      "Juntos: 0.00%\n",
      "SIS: 0.00%\n",
      "Pin: 0.00%\n",
      "Qaliwarma: 0.00%\n",
      "Peso: 0.00%\n",
      "Talla: 0.00%\n",
      "PTZ: 100.00%\n",
      "ZTE: 0.00%\n",
      "ZPE: 0.00%\n",
      "Cred: 0.00%\n",
      "Suplementacion: 0.00%\n",
      "Consejeria: 0.00%\n",
      "Sesion: 0.00%\n",
      "ALTITUD: 0.00%\n",
      "Diresa: 0.00%\n",
      "Red: 0.00%\n",
      "Microred: 0.00%\n",
      "EESS: 0.00%\n",
      "FechaAtencion: 0.00%\n",
      "Sexo: 0.00%\n",
      "FechaNacimiento: 0.00%\n",
      "DepartamentoPN: 0.00%\n",
      "ProvinciaPN: 0.00%\n",
      "DistritoPN: 0.00%\n",
      "CentroPobladoPN: 0.00%\n"
     ]
    }
   ],
   "source": [
    "import matplotlib.pyplot as plt\n",
    "import numpy as np\n",
    "\n",
    "feature_importances = modelo_dtr.feature_importances_\n",
    "features = df_new.columns[:-1]\n",
    "\n",
    "total_importance = np.sum(feature_importances)\n",
    "per_importance = (feature_importances / total_importance) * 100\n",
    "\n",
    "plt.bar(features, per_importance)\n",
    "plt.xlabel('Feature')\n",
    "plt.ylabel('Importance (%)')\n",
    "plt.title('Percentage of Features Importances')\n",
    "plt.xticks(rotation=90)\n",
    "plt.show()\n",
    "\n",
    "for i, features in enumerate(features):\n",
    "    print(f\"{features}: {per_importance[i]:.2f}%\")"
   ]
  },
  {
   "cell_type": "markdown",
   "metadata": {},
   "source": [
    "##### Conclusión\n",
    "\n",
    "Puede apreciarse con la tabla que la columna más relevante que se encuentra en un *100%* es **PTZ**, lo que significa:\n",
    "\n",
    "- **PTZ:** Índice que compara el peso del menor con el peso esperado para su talla y permite establecer si ha ocurrido una pérdida/ganancia de peso corporal.\n",
    "\n",
    "Con estos resultados se puede analizar que PTZ compara los valores de peso y talla por lo que se define una variable fija lo que determinará la clasificación de los pacientes sin esfuerzo, mientras que deseamos determinar todo utilizando *Machine Learning*."
   ]
  },
  {
   "cell_type": "markdown",
   "metadata": {},
   "source": [
    "### Eliminando variables irrelevantes\n",
    "\n",
    "Una vez obtenidos los resultados de las pruebas anteriores se procede a analizarlos con el motivo de eliminar las columnas más irrelevantes con las que no se van a trabajar, dentro de esta incluiremos la columna PTZ debido a que esta cumple con la función de determinar usando variables si un paciente está con obesidad o sobrepeso.\n",
    "\n",
    "Por otro lado, consideraremos las **variables dependientes**  **y variables independientes** de nuestro clasificacdor de pacientes con obesidad que se muestran a continuación:\n",
    "\n",
    "- Variable Dependiente:\n",
    "    - EdadMeses\n",
    "    - Peso\n",
    "    - Talla\n",
    "    - Sexo\n",
    "- Variables Independientes:\n",
    "    - Dx_PT"
   ]
  },
  {
   "cell_type": "code",
   "execution_count": 18,
   "metadata": {},
   "outputs": [],
   "source": [
    "df_new = df_new.drop(['Renipress', 'UbigeoPN', 'Juntos', 'SIS', 'Pin',\n",
    "       'Qaliwarma', 'PTZ', 'ZTE', 'ZPE', 'Cred',\n",
    "       'Suplementacion', 'Consejeria', 'Sesion', 'ALTITUD', 'Diresa', 'Red',\n",
    "       'Microred', 'EESS', 'FechaAtencion', 'FechaNacimiento',\n",
    "       'DepartamentoPN', 'ProvinciaPN', 'DistritoPN', 'CentroPobladoPN'], axis=1)"
   ]
  },
  {
   "cell_type": "code",
   "execution_count": 19,
   "metadata": {},
   "outputs": [
    {
     "name": "stdout",
     "output_type": "stream",
     "text": [
      "<class 'pandas.core.frame.DataFrame'>\n",
      "RangeIndex: 1285032 entries, 0 to 1285031\n",
      "Data columns (total 5 columns):\n",
      " #   Column     Non-Null Count    Dtype  \n",
      "---  ------     --------------    -----  \n",
      " 0   EdadMeses  1285032 non-null  int64  \n",
      " 1   Peso       1285032 non-null  float64\n",
      " 2   Talla      1285032 non-null  float64\n",
      " 3   Sexo       1285032 non-null  int8   \n",
      " 4   Dx_PT      1285032 non-null  int8   \n",
      "dtypes: float64(2), int64(1), int8(2)\n",
      "memory usage: 31.9 MB\n"
     ]
    }
   ],
   "source": [
    "df_new.info()"
   ]
  },
  {
   "cell_type": "markdown",
   "metadata": {},
   "source": [
    "### Remove OutLiers (eliminar valores atípicos)\n",
    "\n",
    "Este paso elimina los valores atípicos que se encuentran en el *DataSet* esto quiere decir los valores que no guardan relación (**variable dependiente e independinte**). En te proceso los separa mediante cuartiles analizando cuales se encuentran dentro y no haciendo uso de código."
   ]
  },
  {
   "cell_type": "code",
   "execution_count": 20,
   "metadata": {},
   "outputs": [
    {
     "name": "stdout",
     "output_type": "stream",
     "text": [
      "EdadMeses    31.00\n",
      "Peso          5.47\n",
      "Talla        22.50\n",
      "Sexo          1.00\n",
      "dtype: float64\n",
      "<class 'pandas.core.frame.DataFrame'>\n",
      "Index: 1277741 entries, 0 to 1285031\n",
      "Data columns (total 5 columns):\n",
      " #   Column     Non-Null Count    Dtype  \n",
      "---  ------     --------------    -----  \n",
      " 0   EdadMeses  1277741 non-null  int64  \n",
      " 1   Peso       1277741 non-null  float64\n",
      " 2   Talla      1277741 non-null  float64\n",
      " 3   Sexo       1277741 non-null  int8   \n",
      " 4   Dx_PT      1277741 non-null  int8   \n",
      "dtypes: float64(2), int64(1), int8(2)\n",
      "memory usage: 41.4 MB\n"
     ]
    }
   ],
   "source": [
    "columns_to_check = ['EdadMeses','Peso','Talla','Sexo']\n",
    "Q1 = df_new[columns_to_check].quantile(0.25)\n",
    "Q3 = df_new[columns_to_check].quantile(0.75)\n",
    "CQ = Q3 - Q1\n",
    "CQ\n",
    "\n",
    "#Remosión de los Outliers\n",
    "data_no_outliers = df_new[\n",
    "    ~((df_new[columns_to_check] < (Q1 - 1.5 * CQ)) |\n",
    "     (df_new[columns_to_check] > (Q3 + 1.5 * CQ))).any(axis=1) ]\n",
    "print(CQ)\n",
    "\n",
    "data_no_outliers.info()"
   ]
  },
  {
   "cell_type": "markdown",
   "metadata": {},
   "source": [
    "### Balanceamineto de Datos\n",
    "\n",
    "El balancemiento de datos es muy importante para tener una cantidad exacta de datos, en este caso se reaizará un primer análisis el cual mostrareos con porcentajes, analizado de la cantidad de registros que existe para cada clase a analizar de la *variable dependiente*, por otro lado cuando empecemos a analizar la data se debe tener en cuenta realizar uno de los siguientes procedimientos:\n",
    "\n",
    "- Undersampling (Encargado de reducir la cantidad de registros a una cifra deseada)\n",
    "- Oversampling (Encargado de duplicar registros para rellenar la cifra deseada)\n",
    "\n",
    "Teniendo este concepto en cuenta procederemos a desarrollar lo ya mencionado."
   ]
  },
  {
   "cell_type": "code",
   "execution_count": 21,
   "metadata": {},
   "outputs": [
    {
     "name": "stdout",
     "output_type": "stream",
     "text": [
      "Class=1, n=1154734 (89.860%)\n",
      "Class=3, n=87252 (6.790%)\n",
      "Class=0, n=18595 (1.447%)\n",
      "Class=2, n=24451 (1.903%)\n"
     ]
    },
    {
     "data": {
      "image/png": "[encoded data removed]",
      "text/plain": [
       "<Figure size 432x288 with 1 Axes>"
      ]
     },
     "metadata": {
      "needs_background": "light"
     },
     "output_type": "display_data"
    }
   ],
   "source": [
    "import matplotlib.pyplot as plt\n",
    "from collections import Counter\n",
    "\n",
    "X,y = df_new.iloc[:, :-1], df_new.iloc[:, -1]\n",
    "\n",
    "counter = Counter(y)\n",
    "for k,v in counter.items():\n",
    "\tper = v / len(y) * 100\n",
    "\tprint('Class=%d, n=%d (%.3f%%)' % (k, v, per))\n",
    "\n",
    "plt.bar(counter.keys(), counter.values())\n",
    "plt.xlabel(\"Niveles\")\n",
    "plt.ylabel(\"Numero de registros\")\n",
    "plt.show()"
   ]
  },
  {
   "cell_type": "markdown",
   "metadata": {},
   "source": [
    "#### Oversampling o Undersampling\n",
    "\n",
    "Como se analizó en la tabla anterior, tenemos una gran cantidad de registro en la *clase 01*, por lo que tendremos que reducir la candidad de registros a la mínima cantidad, en nuestro caso es *18595 registros*, entonces realizaremos **undersamplong** quedandonos en total la cantidad de *74380 registros* lo cual considero es una buena cifra para poder aplicar nuestros modelos de entrenamiento para la clasificación de pacientes con obesidad."
   ]
  },
  {
   "cell_type": "code",
   "execution_count": 22,
   "metadata": {},
   "outputs": [
    {
     "data": {
      "text/plain": [
       "' Código Oversampling\\noversampling_strategy = {0: int(150000), 1: int(150000),  2: int(150000)}\\noversampler = SMOTE(sampling_strategy=oversampling_strategy, random_state=21)\\nX, y = oversampler.fit_resample(X_undersampled, y_undersampled)\\n'"
      ]
     },
     "execution_count": 22,
     "metadata": {},
     "output_type": "execute_result"
    }
   ],
   "source": [
    "from imblearn import under_sampling, over_sampling\n",
    "from imblearn.under_sampling import RandomUnderSampler\n",
    "from imblearn.over_sampling import SMOTE\n",
    "\n",
    "# Código Undersamplig\n",
    "undersampling_strategy = {1: int(18595),  2: int(18595), 3: int(18595)}\n",
    "undersampler = RandomUnderSampler(sampling_strategy = undersampling_strategy, random_state=21)\n",
    "X_undersampled, y_undersampled = undersampler.fit_resample(X, y)\n",
    "\n",
    "''' Código Oversampling\n",
    "oversampling_strategy = {0: int(150000), 1: int(150000),  2: int(150000)}\n",
    "oversampler = SMOTE(sampling_strategy=oversampling_strategy, random_state=21)\n",
    "X, y = oversampler.fit_resample(X_undersampled, y_undersampled)\n",
    "'''"
   ]
  },
  {
   "cell_type": "code",
   "execution_count": 23,
   "metadata": {},
   "outputs": [
    {
     "name": "stdout",
     "output_type": "stream",
     "text": [
      "Class=0, n=18595 (25.000%)\n",
      "Class=1, n=18595 (25.000%)\n",
      "Class=2, n=18595 (25.000%)\n",
      "Class=3, n=18595 (25.000%)\n"
     ]
    },
    {
     "data": {
      "image/png": "[encoded data removed]",
      "text/plain": [
       "<Figure size 432x288 with 1 Axes>"
      ]
     },
     "metadata": {
      "needs_background": "light"
     },
     "output_type": "display_data"
    }
   ],
   "source": [
    "counter = Counter(y_undersampled)\n",
    "for k,v in counter.items():\n",
    "\tper = v / len(y_undersampled) * 100\n",
    "\tprint('Class=%d, n=%d (%.3f%%)' % (k, v, per))\n",
    "\n",
    "plt.bar(counter.keys(), counter.values())\n",
    "plt.xlabel(\"Niveles\")\n",
    "plt.ylabel(\"Numero de registros\")\n",
    "plt.show()"
   ]
  },
  {
   "cell_type": "markdown",
   "metadata": {},
   "source": [
    "## Modelos de entrenamiento para Machine Learning\n",
    "\n",
    "Una vez toda la data este procesada, balanceada, clasificada y haber clasificado las variables podremos aplicar los modelos de entrenamiento de **Machine Learning**, es decir tendremos que entrenar un *algoritmo* con la computadora para que esta pueda clasificar a partir de la información brindada, con la finalidad de clasificar registros futuros sin necesidad del aspecto humano. Para esto consideraremos los modelos antes mencionados:\n",
    "\n",
    "- Random Forest\n",
    "- Decision Trees\n",
    "- Multinominal Logistic Regression\n",
    "- Support Vector Machine\n",
    "- Naibe Bayes"
   ]
  },
  {
   "cell_type": "markdown",
   "metadata": {},
   "source": [
    "### Random Forest\n",
    "\n",
    "El primer modelo que estamos desarrollando es **Random Forest** el cual combina el resultado de múltiples árboles de decisión para alcanzar un único resultado. Su facilidad de uso y flexibilidad ha impulsado su adopción, ya que maneja problemas tanto de clasificación como de regresión. Por lo tanto, este modelo nos ayudaría con la clasificación de nuestros pacientes con obesidad de una manera sencilla.\n"
   ]
  },
  {
   "cell_type": "code",
   "execution_count": 24,
   "metadata": {},
   "outputs": [],
   "source": [
    "from sklearn.model_selection import train_test_split\n",
    "from sklearn.preprocessing import StandardScaler\n",
    "from sklearn.ensemble import RandomForestClassifier\n",
    "\n",
    "X,y = X_undersampled, y_undersampled\n",
    "\n",
    "X_train, X_test, y_train, y_test = train_test_split(X, y, test_size = 0.2, random_state = 42)"
   ]
  },
  {
   "cell_type": "code",
   "execution_count": 25,
   "metadata": {},
   "outputs": [],
   "source": [
    "scaler = StandardScaler()\n",
    "X_train = scaler.fit_transform(X_train)\n",
    "X_test = scaler.transform(X_test)"
   ]
  },
  {
   "cell_type": "code",
   "execution_count": 26,
   "metadata": {},
   "outputs": [],
   "source": [
    "rfc = RandomForestClassifier(n_estimators = 100, criterion = 'entropy', random_state = 42)\n",
    "ran_forest = rfc.fit(X_train, y_train)\n",
    "y_pred_rf = ran_forest.predict(X_test)"
   ]
  },
  {
   "cell_type": "markdown",
   "metadata": {},
   "source": [
    "#### Resultado y Conclusiones\n",
    "\n",
    "Para presentar los resultados y poder hacer un mejor análisis utilizaremos una matriz de confusión la cual incluirá los valores predecidos y las clases que se utlizaron para la clasificación de la data ya modificada.\n",
    "\n",
    "Finalmente, como conslusiones podemos observar que hay un buen pocentaje de presición al clasificar a los pacientes, este es del **99%** en general por lo que consideramos este modelo de regresión muy bueno a considerar la data que estamos utiizando de *74380 registros*."
   ]
  },
  {
   "cell_type": "code",
   "execution_count": 27,
   "metadata": {},
   "outputs": [
    {
     "data": {
      "image/png": "[encoded data removed]",
      "text/plain": [
       "<Figure size 648x432 with 2 Axes>"
      ]
     },
     "metadata": {
      "needs_background": "light"
     },
     "output_type": "display_data"
    },
    {
     "name": "stdout",
     "output_type": "stream",
     "text": [
      "              precision    recall  f1-score   support\n",
      "\n",
      "           0       0.99      1.00      1.00      3693\n",
      "           1       1.00      0.98      0.99      3770\n",
      "           2       0.99      0.99      0.99      3748\n",
      "           3       0.98      0.98      0.98      3665\n",
      "\n",
      "    accuracy                           0.99     14876\n",
      "   macro avg       0.99      0.99      0.99     14876\n",
      "weighted avg       0.99      0.99      0.99     14876\n",
      "\n"
     ]
    }
   ],
   "source": [
    "from sklearn.metrics import confusion_matrix, classification_report\n",
    "from matplotlib import pyplot as plt\n",
    "import seaborn as sns\n",
    "\n",
    "conf_matrix = confusion_matrix(y_test, y_pred_rf)\n",
    "plt.figure(figsize=(9, 6))\n",
    "sns.heatmap(conf_matrix, annot=True, fmt=\"d\")\n",
    "plt.title(\"Confusion matrix\")\n",
    "plt.ylabel('class')\n",
    "plt.xlabel('Predicted class')\n",
    "plt.show()\n",
    "\n",
    "print(classification_report(y_test, y_pred_rf))"
   ]
  },
  {
   "cell_type": "markdown",
   "metadata": {},
   "source": [
    "### Desicion Tree\n",
    "\n",
    " El algoritmo de aprendizaje supervisado **Desicion Tree** es no paramétrico, que se utiliza tanto para tareas de clasificación como de regresión. Tiene una estructura de árbol jerárquica, que consta de un nodo raíz, ramas, nodos internos y nodos hoja. Esto quiere decir que será un modelo util para el proceso de clasificación de los pacientes con obesidad."
   ]
  },
  {
   "cell_type": "code",
   "execution_count": 28,
   "metadata": {},
   "outputs": [],
   "source": [
    "from sklearn.tree import DecisionTreeClassifier\n",
    "from sklearn.metrics import confusion_matrix, classification_report\n",
    "from matplotlib import pyplot as plt\n",
    "import seaborn as sns\n",
    "#X_train, X_test, y_train, y_test = train_test_split(X_resampled, y_resampled, test_size = 0.25, random_state = 21)\n",
    "\n",
    "dtr = DecisionTreeClassifier(criterion='entropy',max_depth=40, min_samples_split=2, random_state = 42)\n",
    "decision_tree = dtr.fit(X_train, y_train)\n",
    "y_pred_dt = decision_tree.predict(X_test)"
   ]
  },
  {
   "cell_type": "markdown",
   "metadata": {},
   "source": [
    "#### Resultados y conclusiones\n",
    "\n",
    "Una vez realizada la matriz de confusión tendremos que analizarla completamente llegando a la conslusión de que el porcentaje de predicción fue del 99% muy similar al random forest. Por lo que, se considera un buen código, recordar que este código es solo una parte de lo que utiliza Random Forest."
   ]
  },
  {
   "cell_type": "code",
   "execution_count": 29,
   "metadata": {},
   "outputs": [
    {
     "data": {
      "image/png": "[encoded data removed]",
      "text/plain": [
       "<Figure size 648x432 with 2 Axes>"
      ]
     },
     "metadata": {
      "needs_background": "light"
     },
     "output_type": "display_data"
    },
    {
     "name": "stdout",
     "output_type": "stream",
     "text": [
      "              precision    recall  f1-score   support\n",
      "\n",
      "           0       0.99      1.00      1.00      3693\n",
      "           1       0.99      0.98      0.99      3770\n",
      "           2       0.99      0.99      0.99      3748\n",
      "           3       0.98      0.98      0.98      3665\n",
      "\n",
      "    accuracy                           0.99     14876\n",
      "   macro avg       0.99      0.99      0.99     14876\n",
      "weighted avg       0.99      0.99      0.99     14876\n",
      "\n"
     ]
    }
   ],
   "source": [
    "conf_matrix = confusion_matrix(y_test, y_pred_dt)\n",
    "plt.figure(figsize=(9, 6))\n",
    "sns.heatmap(conf_matrix, annot=True, fmt=\"d\")\n",
    "plt.title(\"Confusion matrix\")\n",
    "plt.ylabel('class')\n",
    "plt.xlabel('Predicted class')\n",
    "plt.show()\n",
    "print(classification_report(y_test, y_pred_dt))"
   ]
  },
  {
   "cell_type": "markdown",
   "metadata": {},
   "source": [
    "### Regresión logistica multinominal\n",
    "\n",
    "La regresión logística multinomial es una técnica estadística utilizada en problemas de clasificación donde hay más de dos categorías o clases a predecir. A diferencia de la regresión logística binomial, que se emplea para problemas de clasificación binaria, la regresión logística multinomial se aplica cuando hay tres o más clases mutuamente excluyentes."
   ]
  },
  {
   "cell_type": "code",
   "execution_count": 30,
   "metadata": {},
   "outputs": [],
   "source": [
    "from sklearn.linear_model import LogisticRegression\n",
    "\n",
    "scaler = StandardScaler()\n",
    "X_train = scaler.fit_transform(X_train)\n",
    "X_test = scaler.transform(X_test)\n",
    "\n",
    "regresion = LogisticRegression(multi_class='multinomial', solver='lbfgs',max_iter=1000).fit(X_train, y_train)\n",
    "y_pred_rl = regresion.predict(X_test)"
   ]
  },
  {
   "cell_type": "markdown",
   "metadata": {},
   "source": [
    "#### Resultados y conlusiones\n",
    "\n",
    "Una vez implementado el modelo anterior podemos analizar según la matriz de confusión que existe una exactitud del 93% algo baja a comparación de los modelos antes aplicados, esto quiere decir que no ha sido tan efectivo pero si ha logrado tener un buen nivel de precisión."
   ]
  },
  {
   "cell_type": "code",
   "execution_count": 31,
   "metadata": {},
   "outputs": [
    {
     "data": {
      "image/png": "[encoded data removed]",
      "text/plain": [
       "<Figure size 648x432 with 2 Axes>"
      ]
     },
     "metadata": {
      "needs_background": "light"
     },
     "output_type": "display_data"
    },
    {
     "name": "stdout",
     "output_type": "stream",
     "text": [
      "              precision    recall  f1-score   support\n",
      "\n",
      "           0       0.97      0.99      0.98      3693\n",
      "           1       0.99      0.91      0.95      3770\n",
      "           2       0.92      0.91      0.91      3748\n",
      "           3       0.86      0.91      0.88      3665\n",
      "\n",
      "    accuracy                           0.93     14876\n",
      "   macro avg       0.93      0.93      0.93     14876\n",
      "weighted avg       0.93      0.93      0.93     14876\n",
      "\n"
     ]
    }
   ],
   "source": [
    "conf_matrix = confusion_matrix(y_test, y_pred_rl)\n",
    "plt.figure(figsize=(9, 6))\n",
    "sns.heatmap(conf_matrix, annot=True, fmt=\"d\")\n",
    "plt.title(\"Confusion matrix\")\n",
    "plt.ylabel('class')\n",
    "plt.xlabel('Predicted class')\n",
    "plt.show()\n",
    "print(classification_report(y_test, y_pred_rl))"
   ]
  },
  {
   "cell_type": "markdown",
   "metadata": {},
   "source": [
    "### Support Vector Machine\n",
    "\n",
    "Support Vector Machines es un algoritmo de aprendizaje supervisado utilizado tanto en problemas de clasificación como en regresión. Su objetivo principal es encontrar el hiperplano óptimo que mejor separa los datos en diferentes clases. En el contexto de clasificación, SVM busca la mejor manera de dividir un conjunto de datos en clases distintas mediante la identificación de un margen de separación máximo entre ellas."
   ]
  },
  {
   "cell_type": "code",
   "execution_count": 32,
   "metadata": {},
   "outputs": [
    {
     "data": {
      "image/png": "[encoded data removed]",
      "text/plain": [
       "<Figure size 648x432 with 2 Axes>"
      ]
     },
     "metadata": {
      "needs_background": "light"
     },
     "output_type": "display_data"
    },
    {
     "name": "stdout",
     "output_type": "stream",
     "text": [
      "              precision    recall  f1-score   support\n",
      "\n",
      "           0       0.98      1.00      0.99      3693\n",
      "           1       1.00      0.94      0.97      3770\n",
      "           2       0.96      1.00      0.98      3748\n",
      "           3       0.96      0.95      0.96      3665\n",
      "\n",
      "    accuracy                           0.97     14876\n",
      "   macro avg       0.97      0.97      0.97     14876\n",
      "weighted avg       0.97      0.97      0.97     14876\n",
      "\n"
     ]
    }
   ],
   "source": [
    "from sklearn.svm import SVC\n",
    "\n",
    "scaler = StandardScaler()\n",
    "X_train = scaler.fit_transform(X_train)\n",
    "X_test = scaler.transform(X_test)\n",
    "\n",
    "SuVeMa = SVC(random_state=42)\n",
    "SuVeMa.fit(X_train, y_train)\n",
    "y_pred_svm = SuVeMa.predict(X_test)"
   ]
  },
  {
   "cell_type": "markdown",
   "metadata": {},
   "source": [
    "#### Resultados y Conlusiones\n",
    "\n",
    "Aplicando su matriz de confusión así como tambien haber desarrollado su código pasamos a analizar los resultados obtenidos logrando así un porcentaje del 97% de exactitud el cual es muy bueno y podemos considerar también a este modelo uno muy bueno para la cantidad de registros clasificados."
   ]
  },
  {
   "cell_type": "code",
   "execution_count": null,
   "metadata": {},
   "outputs": [],
   "source": [
    "conf_matrix = confusion_matrix(y_test, y_pred_svm)\n",
    "plt.figure(figsize=(9, 6))\n",
    "sns.heatmap(conf_matrix, annot=True, fmt=\"d\")\n",
    "plt.title(\"Confusion matrix\")\n",
    "plt.ylabel('class')\n",
    "plt.xlabel('Predicted class')\n",
    "plt.show()\n",
    "print(classification_report(y_test, y_pred_svm))"
   ]
  },
  {
   "cell_type": "markdown",
   "metadata": {},
   "source": [
    "### Naibe Bayes\n",
    "\n",
    "El clasificador Naive Bayes es un algoritmo de aprendizaje supervisado basado en el teorema de Bayes y en la suposición de independencia condicional entre las características (variables predictoras). Aunque esta suposición de independencia condicional rara vez se cumple en la práctica, el clasificador Naive Bayes sigue siendo efectivo en muchos escenarios y es especialmente útil cuando se tienen conjuntos de datos pequeños o moderados."
   ]
  },
  {
   "cell_type": "code",
   "execution_count": 33,
   "metadata": {},
   "outputs": [],
   "source": [
    "from sklearn.naive_bayes import GaussianNB\n",
    "from sklearn.metrics import accuracy_score, classification_report, confusion_matrix\n",
    "\n",
    "naive_bayes = GaussianNB()\n",
    "naive_bayes.fit(X_train, y_train)\n",
    "y_pred_nb = naive_bayes.predict(X_test)"
   ]
  },
  {
   "cell_type": "markdown",
   "metadata": {},
   "source": [
    "#### Resultados y Conlusiones\n",
    "Finalmente este ultimo modelo al utilizar solamente dos configuraciones o variables con las que trabaja no es de los mejores modelos al clasificar datos, como se observa en la matriz de clasificación obtenemos un resultado del 39%, siendo así el resutlado más bajo de todos los modelos.\n"
   ]
  },
  {
   "cell_type": "code",
   "execution_count": 34,
   "metadata": {},
   "outputs": [
    {
     "data": {
      "image/png": "[encoded data removed]",
      "text/plain": [
       "<Figure size 648x432 with 2 Axes>"
      ]
     },
     "metadata": {
      "needs_background": "light"
     },
     "output_type": "display_data"
    },
    {
     "name": "stdout",
     "output_type": "stream",
     "text": [
      "              precision    recall  f1-score   support\n",
      "\n",
      "           0       0.43      0.60      0.50      3693\n",
      "           1       0.35      0.47      0.40      3770\n",
      "           2       0.41      0.41      0.41      3748\n",
      "           3       0.28      0.06      0.10      3665\n",
      "\n",
      "    accuracy                           0.39     14876\n",
      "   macro avg       0.37      0.39      0.35     14876\n",
      "weighted avg       0.37      0.39      0.35     14876\n",
      "\n"
     ]
    }
   ],
   "source": [
    "conf_matrix = confusion_matrix(y_test, y_pred_nb)\n",
    "plt.figure(figsize=(9, 6))\n",
    "sns.heatmap(conf_matrix, annot=True, fmt=\"d\")\n",
    "plt.title(\"Confusion matrix\")\n",
    "plt.ylabel('class')\n",
    "plt.xlabel('Predicted class')\n",
    "plt.show()\n",
    "print(classification_report(y_test, y_pred_nb))"
   ]
  }
 ],
 "metadata": {
  "kernelspec": {
   "display_name": "Python 3",
   "language": "python",
   "name": "python3"
  },
  "language_info": {
   "codemirror_mode": {
    "name": "ipython",
    "version": 3
   },
   "file_extension": ".py",
   "mimetype": "text/x-python",
   "name": "python",
   "nbconvert_exporter": "python",
   "pygments_lexer": "ipython3",
   "version": "3.9.13"
  }
 },
 "nbformat": 4,
 "nbformat_minor": 2
}
